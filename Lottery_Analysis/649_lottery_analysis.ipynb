{
 "cells": [
  {
   "cell_type": "markdown",
   "metadata": {},
   "source": [
    "# 6/49 Lottery Analysis \n",
    "\n",
    "------\n",
    "\n",
    "I'm personally not a big lottery player. However, just like everyone else, I like the idea of winning the lottery and having such a lot of money in just a night (if you are the winner). Some people play lottery for fun, but soon it becomes a habit which eventually turns into an addiction. Besides that the lottery company's marketing team is doing such a great job creating a belief of everyone can be a millionaire [Lottery Winners](https://www.playnow.com/lottery/winners/you-could-be-next/). In Ontario province, we have OLG which is the Ontario government agency that delivers lottery and gaming entertainment. They provide variety lottery games; for instance, [LOTTO MAX](https://www.olg.ca/en/lottery/play-lotto-max-encore.html) that reaches `$70 million` on Tuesday, June 22, 2021 and [LOTTO 6/49](https://www.olg.ca/en/lottery/play-lotto-649-encore/about.html) that always guarantes `$1 million` in every draw night and maximum with `$5 millio`n on Wednesday, June 22, 2021. \n",
    "\n",
    "In this analysis, we just focus on the **6/49** lottery, create some functions and find the insights from the data set [649](https://www.kaggle.com/datascienceai/lottery-dataset) on Kaggle that has 3,665 drawings from 1982 to 2018.\n",
    "\n",
    "Through the analysis, we want to find the answers for the following questions:\n",
    "* What is the probability of winning the big prize with a single ticket?\n",
    "* What is the probability of winning the big prize if we play 50 different tickets (or any different number)?\n",
    "* What is the probability of having at least five (or four, or three, or two) winning numbers on a single ticket?\n",
    "\n",
    "# 6/49 Gameplay\n",
    "\n",
    "--------\n",
    "\n",
    "As the name implies, six numbers are drawn from a set of 49. if a ticke matches all six numbers, the jackpot prize of at least `$5 million` is won. There is a bonus number is drawn and if a player's ticket matches five numbers plus the bonus number then the player wins the \"second prize\" which is usually between `$100,000 and $500,000`.\n",
    "\n",
    "In case there are more than one player win the top or second prize, it will be split amongst them. Lesser prizes are also awarded if one matches at least two numbers. If the top prize is not won, the jackpot prize increases for the next draw.\n",
    "\n",
    "# Creating Functions\n",
    "\n",
    "--------\n",
    "\n",
    "From the 6/49 gameplay, we know how the game works. For example, if a player bought a ticket with the numbers {07,02,19,91,11,56}, he/she only wins the big prize if the six numbers on the tickets match all the drawn six numbers as {07,02,19,91,11,56} (the order does not matter).\n",
    "\n",
    "* We will create a function that can calculate the probability of winning the big prize with the various numbers they play on a single ticket.\n",
    "\n",
    "* Then we can compare their ticket with the historical lottery data and consider whether they might win or not. Since the data set consists of 3,665 drawings dating from 1982 to 2018. For each drawing, we can find the six numbers drawn in the following 6 columns:\n",
    "\n",
    "    - NUMBER DRAWN 1\n",
    "    - NUMBER DRAWN 2\n",
    "    - NUMBER DRAWN 3\n",
    "    - NUMBER DRAWN 4\n",
    "    - NUMBER DRAWN 5\n",
    "    - NUMBER DRAWN 6\n",
    "\n",
    "* We want to create another function to check the number of times the combination selected occured in the 6/49 data set as well as the probability of winning the big prize in the next drawing with that combination.\n",
    "\n",
    "* Besides the big prize, we can also win the smaller prizes if the players' ticket match at least two, three, four, or five of the six numbers drawn. Therefore, the players might be interested in knowing the probability of having these two, three, four, or five winning numbers.\n",
    "\n",
    "    * In the function, the user can input:\n",
    "        * six different numbers from 1 to 49\n",
    "        * an interger between 2 and 5 that represents the number of winning numbers expected.\n",
    "    * The function will print information about the probabity of having the input number of winning numbers.\n",
    "    * The function will not return the probability of having at least five winning numbers.\n",
    "\n",
    "# Summary\n",
    "\n",
    "In this analysis, we will be creating four functions that can help us to understand the odds of winning the 6/49 lottery from the past data:\n",
    "\n",
    "\n",
    "|    <strong>Functions</strong>        |  Description                                        |\n",
    "|-------------------|-----------------------------------------------------|\n",
    "|<strong>big_prize_proba() </strong>  | Calculates the probability of winnig the big prize with a one ticket    |   \n",
    "|<strong>check_past_winning()</strong>         | Checks whether a certain combination has occurred in 6/49 data set     |   \n",
    "|<strong>check_multi_proba()</strong>         | Calculates the probability for any number of the ticket  |\n",
    "|<strong>check_less_6_proba()</strong>   |  Calculates the probability of having two, three, four, or five winning numbers  |\n"
   ]
  },
  {
   "cell_type": "code",
   "execution_count": 5,
   "metadata": {},
   "outputs": [],
   "source": [
    "# Creates a factorial function\n",
    "def factorial(n):\n",
    "    final_product = 1\n",
    "    for i in range(n, 0, -1):\n",
    "        final_product *= i\n",
    "    return final_product"
   ]
  },
  {
   "cell_type": "code",
   "execution_count": 9,
   "metadata": {},
   "outputs": [
    {
     "data": {
      "text/plain": [
       "6"
      ]
     },
     "execution_count": 9,
     "metadata": {},
     "output_type": "execute_result"
    }
   ],
   "source": [
    "# Checks the function\n",
    "factorial(3)"
   ]
  },
  {
   "cell_type": "code",
   "execution_count": 32,
   "metadata": {},
   "outputs": [],
   "source": [
    "# Creates a combination function\n",
    "\n",
    "def combination(n,k):\n",
    "    numerator = factorial(n)\n",
    "    denominator = factorial(k) * factorial(n-k)\n",
    "    return numerator / denominator\n"
   ]
  },
  {
   "cell_type": "code",
   "execution_count": 34,
   "metadata": {},
   "outputs": [
    {
     "data": {
      "text/plain": [
       "13983816.0"
      ]
     },
     "execution_count": 34,
     "metadata": {},
     "output_type": "execute_result"
    }
   ],
   "source": [
    "# Check the function\n",
    "\n",
    "combination(49,6) # There are 49 possible numbers, and 6 numbers are sampled"
   ]
  },
  {
   "cell_type": "markdown",
   "metadata": {},
   "source": [
    "### Checking the probability of winning a big prize.\n",
    "\n",
    "We will calculates the probability for any number of tickets between **1** and **12,983,816**\n",
    "\n",
    "We want the players can be able to calculate the probability of winning the big prize with the various numbers they play on a single ticket (for each ticket a player have to choose 6 numbers out of 49)."
   ]
  },
  {
   "cell_type": "code",
   "execution_count": 39,
   "metadata": {},
   "outputs": [],
   "source": [
    "# Creates an explicit probability of one winning ticket\n",
    "\n",
    "def big_prize_proba(numbers):\n",
    "    total_outcomes = combination(49, 6) # There are 49 possible numbers, and 6 numbers are sampled\n",
    "    successful_outcome = 1 / total_outcomes # There is only one winning number\n",
    "    probability_winning = (successful_outcome / total_outcomes) *100\n",
    "    print(f\"You're chances of winning are {probability_winning} %!\")"
   ]
  },
  {
   "cell_type": "code",
   "execution_count": 40,
   "metadata": {},
   "outputs": [
    {
     "name": "stdout",
     "output_type": "stream",
     "text": [
      "You're chances of winning are 5.113857220388566e-13 %!\n"
     ]
    }
   ],
   "source": [
    "# Check the function\n",
    "\n",
    "test_1 = [7,2,19,91,11,56]\n",
    "\n",
    "big_prize_proba(test_1)"
   ]
  },
  {
   "cell_type": "code",
   "execution_count": 42,
   "metadata": {},
   "outputs": [
    {
     "name": "stdout",
     "output_type": "stream",
     "text": [
      "You're chances of winning are 5.113857220388566e-13 %!\n"
     ]
    }
   ],
   "source": [
    "test_2 = [34,22,19,4,51,95]\n",
    "\n",
    "big_prize_proba(test_2)"
   ]
  },
  {
   "cell_type": "markdown",
   "metadata": {},
   "source": [
    "### Checking Historical Data\n",
    "\n",
    "Let's explore the historical data from the 6/49 data set.\n",
    "\n",
    "Since the data set has 3,665 drawings dating from 1982 to 2018, we can find the six numbers drawn in the following 6 columns:\n",
    "\n",
    "    - NUMBER DRAWN 1\n",
    "    - NUMBER DRAWN 2\n",
    "    - NUMBER DRAWN 3\n",
    "    - NUMBER DRAWN 4\n",
    "    - NUMBER DRAWN 5\n",
    "    - NUMBER DRAWN 6"
   ]
  },
  {
   "cell_type": "code",
   "execution_count": null,
   "metadata": {},
   "outputs": [],
   "source": [
    "import pandas as pd"
   ]
  },
  {
   "cell_type": "code",
   "execution_count": 43,
   "metadata": {},
   "outputs": [
    {
     "data": {
      "text/html": [
       "<div>\n",
       "<style scoped>\n",
       "    .dataframe tbody tr th:only-of-type {\n",
       "        vertical-align: middle;\n",
       "    }\n",
       "\n",
       "    .dataframe tbody tr th {\n",
       "        vertical-align: top;\n",
       "    }\n",
       "\n",
       "    .dataframe thead th {\n",
       "        text-align: right;\n",
       "    }\n",
       "</style>\n",
       "<table border=\"1\" class=\"dataframe\">\n",
       "  <thead>\n",
       "    <tr style=\"text-align: right;\">\n",
       "      <th></th>\n",
       "      <th>PRODUCT</th>\n",
       "      <th>DRAW NUMBER</th>\n",
       "      <th>SEQUENCE NUMBER</th>\n",
       "      <th>DRAW DATE</th>\n",
       "      <th>NUMBER DRAWN 1</th>\n",
       "      <th>NUMBER DRAWN 2</th>\n",
       "      <th>NUMBER DRAWN 3</th>\n",
       "      <th>NUMBER DRAWN 4</th>\n",
       "      <th>NUMBER DRAWN 5</th>\n",
       "      <th>NUMBER DRAWN 6</th>\n",
       "      <th>BONUS NUMBER</th>\n",
       "    </tr>\n",
       "  </thead>\n",
       "  <tbody>\n",
       "    <tr>\n",
       "      <th>0</th>\n",
       "      <td>649</td>\n",
       "      <td>1</td>\n",
       "      <td>0</td>\n",
       "      <td>6/12/1982</td>\n",
       "      <td>3</td>\n",
       "      <td>11</td>\n",
       "      <td>12</td>\n",
       "      <td>14</td>\n",
       "      <td>41</td>\n",
       "      <td>43</td>\n",
       "      <td>13</td>\n",
       "    </tr>\n",
       "    <tr>\n",
       "      <th>1</th>\n",
       "      <td>649</td>\n",
       "      <td>2</td>\n",
       "      <td>0</td>\n",
       "      <td>6/19/1982</td>\n",
       "      <td>8</td>\n",
       "      <td>33</td>\n",
       "      <td>36</td>\n",
       "      <td>37</td>\n",
       "      <td>39</td>\n",
       "      <td>41</td>\n",
       "      <td>9</td>\n",
       "    </tr>\n",
       "    <tr>\n",
       "      <th>2</th>\n",
       "      <td>649</td>\n",
       "      <td>3</td>\n",
       "      <td>0</td>\n",
       "      <td>6/26/1982</td>\n",
       "      <td>1</td>\n",
       "      <td>6</td>\n",
       "      <td>23</td>\n",
       "      <td>24</td>\n",
       "      <td>27</td>\n",
       "      <td>39</td>\n",
       "      <td>34</td>\n",
       "    </tr>\n",
       "    <tr>\n",
       "      <th>3</th>\n",
       "      <td>649</td>\n",
       "      <td>4</td>\n",
       "      <td>0</td>\n",
       "      <td>7/3/1982</td>\n",
       "      <td>3</td>\n",
       "      <td>9</td>\n",
       "      <td>10</td>\n",
       "      <td>13</td>\n",
       "      <td>20</td>\n",
       "      <td>43</td>\n",
       "      <td>34</td>\n",
       "    </tr>\n",
       "    <tr>\n",
       "      <th>4</th>\n",
       "      <td>649</td>\n",
       "      <td>5</td>\n",
       "      <td>0</td>\n",
       "      <td>7/10/1982</td>\n",
       "      <td>5</td>\n",
       "      <td>14</td>\n",
       "      <td>21</td>\n",
       "      <td>31</td>\n",
       "      <td>34</td>\n",
       "      <td>47</td>\n",
       "      <td>45</td>\n",
       "    </tr>\n",
       "  </tbody>\n",
       "</table>\n",
       "</div>"
      ],
      "text/plain": [
       "   PRODUCT  DRAW NUMBER  SEQUENCE NUMBER  DRAW DATE  NUMBER DRAWN 1  \\\n",
       "0      649            1                0  6/12/1982               3   \n",
       "1      649            2                0  6/19/1982               8   \n",
       "2      649            3                0  6/26/1982               1   \n",
       "3      649            4                0   7/3/1982               3   \n",
       "4      649            5                0  7/10/1982               5   \n",
       "\n",
       "   NUMBER DRAWN 2  NUMBER DRAWN 3  NUMBER DRAWN 4  NUMBER DRAWN 5  \\\n",
       "0              11              12              14              41   \n",
       "1              33              36              37              39   \n",
       "2               6              23              24              27   \n",
       "3               9              10              13              20   \n",
       "4              14              21              31              34   \n",
       "\n",
       "   NUMBER DRAWN 6  BONUS NUMBER  \n",
       "0              43            13  \n",
       "1              41             9  \n",
       "2              39            34  \n",
       "3              43            34  \n",
       "4              47            45  "
      ]
     },
     "execution_count": 43,
     "metadata": {},
     "output_type": "execute_result"
    }
   ],
   "source": [
    "df.head()"
   ]
  },
  {
   "cell_type": "code",
   "execution_count": 26,
   "metadata": {},
   "outputs": [
    {
     "data": {
      "text/plain": [
       "0        {3, 41, 11, 12, 43, 14}\n",
       "1        {33, 36, 37, 39, 8, 41}\n",
       "2         {1, 6, 39, 23, 24, 27}\n",
       "3         {3, 9, 10, 43, 13, 20}\n",
       "4        {34, 5, 14, 47, 21, 31}\n",
       "                  ...           \n",
       "3660    {38, 40, 41, 10, 15, 23}\n",
       "3661    {36, 46, 47, 19, 25, 31}\n",
       "3662     {32, 34, 6, 22, 24, 31}\n",
       "3663     {2, 38, 15, 49, 21, 31}\n",
       "3664    {35, 37, 14, 48, 24, 31}\n",
       "Length: 3665, dtype: object"
      ]
     },
     "execution_count": 26,
     "metadata": {},
     "output_type": "execute_result"
    }
   ],
   "source": [
    "# extracts all the winning six numbers from the historical data\n",
    "def extract_numbers(row):\n",
    "    row = row[4:10]\n",
    "    row = set(row.values)\n",
    "    return row\n",
    "\n",
    "# assigns the winning number\n",
    "winning_numbers = df.apply(extract_numbers, axis = 1) # Pandas.apply allows the users to pass a function and apply it on every single value of the Pandas series              \n",
    "\n",
    "winning_numbers"
   ]
  },
  {
   "cell_type": "code",
   "execution_count": 44,
   "metadata": {},
   "outputs": [],
   "source": [
    "# creates a function to check the historical winning numbers\n",
    "\n",
    "def check_past_winning(user_nums, historical_nums):\n",
    "    '''\n",
    "    user_nums: a list\n",
    "    historical_nums: a Pandas series\n",
    "    '''\n",
    "    \n",
    "    user_nums_set = set(user_nums)\n",
    "    check_matching = historical_nums == user_nums_set\n",
    "    nums_occurence = check_matching.sum() # count if there are any TRUE occurences in the set\n",
    "    \n",
    "    if nums_occurence == 0:\n",
    "        print(f'The combination {user_nums} did not happen before.')\n",
    "        \n",
    "    else:\n",
    "        print(f'The number of times the combination {user_nums} appeared in the past is {nums_occurence}')\n"
   ]
  },
  {
   "cell_type": "code",
   "execution_count": 49,
   "metadata": {},
   "outputs": [
    {
     "name": "stdout",
     "output_type": "stream",
     "text": [
      "The combination [7, 2, 19, 91, 11, 56] did not happen before.\n"
     ]
    }
   ],
   "source": [
    "# Check the function\n",
    "check_past_winning(test_1, winning_numbers)\n"
   ]
  },
  {
   "cell_type": "code",
   "execution_count": 50,
   "metadata": {},
   "outputs": [
    {
     "name": "stdout",
     "output_type": "stream",
     "text": [
      "The combination [56, 41, 24, 2, 1, 5] did not happen before.\n"
     ]
    }
   ],
   "source": [
    "# a new set of 6 numbers\n",
    "test_3 = [56,41,24,2,1,5]\n",
    "\n",
    "check_past_winning(test_3, winning_numbers)"
   ]
  },
  {
   "cell_type": "markdown",
   "metadata": {},
   "source": [
    "### Checking the probability of winning for multiple tickets\n",
    "\n",
    "In a scenario when the user wants to buy multiple tickets to increase the chance of winning. Therefore, we want to create a function to replicate the probability of winning the big prize depending on the number of different tickets played.\n"
   ]
  },
  {
   "cell_type": "code",
   "execution_count": 61,
   "metadata": {},
   "outputs": [],
   "source": [
    "def check_multi_proba(n_tickets_played):\n",
    "    total_outcomes = combination(49, 6) # There are 49 possible numbers, and 6 numbers are sampled\n",
    "    successful_outcome = 1 / total_outcomes # There is only one winning number\n",
    "    probability_n_tickets = (successful_outcome / total_outcomes) * 100\n",
    "    \n",
    "    if n_tickets_played == 1:\n",
    "        print('''Your chances to win the big prize with one ticket are {:.10f}%. \n",
    "               In other words, you have 1 in {:,} chances to win.'''.format(probability_n_tickets, int(total_outcomes)))\n",
    "        \n",
    "    else:\n",
    "        combination_simplified = round(total_outcomes / n_tickets_played)\n",
    "        print('''Your chances to win the big prize with {:,} different tickets are {:.10f}%.\n",
    "                In other words, you have a 1 in {:,} chances to win.'''.format(n_tickets_played, probability_n_tickets, combination_simplified))"
   ]
  },
  {
   "cell_type": "code",
   "execution_count": 62,
   "metadata": {},
   "outputs": [
    {
     "name": "stdout",
     "output_type": "stream",
     "text": [
      "Your chances to win the big prize with 6 different tickets are 0.0000000000%.\n",
      "                In other words, you have a 1 in 2,330,636 chances to win.\n"
     ]
    }
   ],
   "source": [
    "# Check the function with 6 tickets\n",
    "\n",
    "check_multi_proba(6)"
   ]
  },
  {
   "cell_type": "markdown",
   "metadata": {},
   "source": [
    "It looks like the chance to win the big prize with 6 tickets is too small.\n",
    "\n",
    "Let's check with multiple different numbers of ticket:"
   ]
  },
  {
   "cell_type": "code",
   "execution_count": 63,
   "metadata": {},
   "outputs": [
    {
     "name": "stdout",
     "output_type": "stream",
     "text": [
      "Your chances to win the big prize with one ticket are 0.0000000000%. \n",
      "               In other words, you have 1 in 13,983,816 chances to win.\n",
      "=========================================\n",
      "Your chances to win the big prize with 10 different tickets are 0.0000000000%.\n",
      "                In other words, you have a 1 in 1,398,382 chances to win.\n",
      "=========================================\n",
      "Your chances to win the big prize with 100 different tickets are 0.0000000000%.\n",
      "                In other words, you have a 1 in 139,838 chances to win.\n",
      "=========================================\n",
      "Your chances to win the big prize with 1,000 different tickets are 0.0000000000%.\n",
      "                In other words, you have a 1 in 13,984 chances to win.\n",
      "=========================================\n",
      "Your chances to win the big prize with 2,000 different tickets are 0.0000000000%.\n",
      "                In other words, you have a 1 in 6,992 chances to win.\n",
      "=========================================\n",
      "Your chances to win the big prize with 13,983,816 different tickets are 0.0000000000%.\n",
      "                In other words, you have a 1 in 1 chances to win.\n",
      "=========================================\n"
     ]
    }
   ],
   "source": [
    "multi_tickets = [1, 10, 100, 1000, 2000, 13983816]\n",
    "\n",
    "for n in multi_tickets:\n",
    "    check_multi_proba(n)\n",
    "    print(\"=========================================\")"
   ]
  },
  {
   "cell_type": "code",
   "execution_count": null,
   "metadata": {},
   "outputs": [],
   "source": []
  }
 ],
 "metadata": {
  "kernelspec": {
   "display_name": "Python 3",
   "language": "python",
   "name": "python3"
  },
  "language_info": {
   "codemirror_mode": {
    "name": "ipython",
    "version": 3
   },
   "file_extension": ".py",
   "mimetype": "text/x-python",
   "name": "python",
   "nbconvert_exporter": "python",
   "pygments_lexer": "ipython3",
   "version": "3.8.5"
  }
 },
 "nbformat": 4,
 "nbformat_minor": 4
}
